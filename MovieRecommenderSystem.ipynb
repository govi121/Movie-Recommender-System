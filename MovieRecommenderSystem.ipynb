{
 "cells": [
  {
   "cell_type": "markdown",
   "id": "43058ae7",
   "metadata": {},
   "source": [
    "##### Import libraries and load data set"
   ]
  },
  {
   "cell_type": "code",
   "execution_count": 1,
   "id": "c1881157",
   "metadata": {},
   "outputs": [],
   "source": [
    "import numpy as np\n",
    "import pandas as pd\n",
    "import matplotlib.pyplot as plt\n",
    "import seaborn as sns\n",
    "\n",
    "import warnings\n",
    "warnings.filterwarnings('ignore')"
   ]
  },
  {
   "cell_type": "code",
   "execution_count": 2,
   "id": "fe95b03e",
   "metadata": {},
   "outputs": [],
   "source": [
    "movies_df = pd.read_csv('movies.csv')\n",
    "ratings_df = pd.read_csv('ratings.csv')"
   ]
  },
  {
   "cell_type": "markdown",
   "id": "c0450935",
   "metadata": {},
   "source": [
    "### Exploratory Data Analysis including:\n",
    "\n",
    "###### i) Understanding of distribution of the features available"
   ]
  },
  {
   "cell_type": "code",
   "execution_count": 3,
   "id": "ca59bb50",
   "metadata": {},
   "outputs": [
    {
     "data": {
      "text/html": [
       "<div>\n",
       "<style scoped>\n",
       "    .dataframe tbody tr th:only-of-type {\n",
       "        vertical-align: middle;\n",
       "    }\n",
       "\n",
       "    .dataframe tbody tr th {\n",
       "        vertical-align: top;\n",
       "    }\n",
       "\n",
       "    .dataframe thead th {\n",
       "        text-align: right;\n",
       "    }\n",
       "</style>\n",
       "<table border=\"1\" class=\"dataframe\">\n",
       "  <thead>\n",
       "    <tr style=\"text-align: right;\">\n",
       "      <th></th>\n",
       "      <th>movieId</th>\n",
       "      <th>title</th>\n",
       "      <th>genres</th>\n",
       "    </tr>\n",
       "  </thead>\n",
       "  <tbody>\n",
       "    <tr>\n",
       "      <th>0</th>\n",
       "      <td>1</td>\n",
       "      <td>Toy Story (1995)</td>\n",
       "      <td>Adventure|Animation|Children|Comedy|Fantasy</td>\n",
       "    </tr>\n",
       "    <tr>\n",
       "      <th>1</th>\n",
       "      <td>2</td>\n",
       "      <td>Jumanji (1995)</td>\n",
       "      <td>Adventure|Children|Fantasy</td>\n",
       "    </tr>\n",
       "    <tr>\n",
       "      <th>2</th>\n",
       "      <td>3</td>\n",
       "      <td>Grumpier Old Men (1995)</td>\n",
       "      <td>Comedy|Romance</td>\n",
       "    </tr>\n",
       "    <tr>\n",
       "      <th>3</th>\n",
       "      <td>4</td>\n",
       "      <td>Waiting to Exhale (1995)</td>\n",
       "      <td>Comedy|Drama|Romance</td>\n",
       "    </tr>\n",
       "    <tr>\n",
       "      <th>4</th>\n",
       "      <td>5</td>\n",
       "      <td>Father of the Bride Part II (1995)</td>\n",
       "      <td>Comedy</td>\n",
       "    </tr>\n",
       "  </tbody>\n",
       "</table>\n",
       "</div>"
      ],
      "text/plain": [
       "   movieId                               title  \\\n",
       "0        1                    Toy Story (1995)   \n",
       "1        2                      Jumanji (1995)   \n",
       "2        3             Grumpier Old Men (1995)   \n",
       "3        4            Waiting to Exhale (1995)   \n",
       "4        5  Father of the Bride Part II (1995)   \n",
       "\n",
       "                                        genres  \n",
       "0  Adventure|Animation|Children|Comedy|Fantasy  \n",
       "1                   Adventure|Children|Fantasy  \n",
       "2                               Comedy|Romance  \n",
       "3                         Comedy|Drama|Romance  \n",
       "4                                       Comedy  "
      ]
     },
     "execution_count": 3,
     "metadata": {},
     "output_type": "execute_result"
    }
   ],
   "source": [
    "movies_df.head()"
   ]
  },
  {
   "cell_type": "code",
   "execution_count": 4,
   "id": "cb8c65ef",
   "metadata": {},
   "outputs": [
    {
     "data": {
      "text/plain": [
       "(10329, 3)"
      ]
     },
     "execution_count": 4,
     "metadata": {},
     "output_type": "execute_result"
    }
   ],
   "source": [
    "movies_df.shape"
   ]
  },
  {
   "cell_type": "code",
   "execution_count": 5,
   "id": "3bd7767e",
   "metadata": {},
   "outputs": [
    {
     "name": "stdout",
     "output_type": "stream",
     "text": [
      "<class 'pandas.core.frame.DataFrame'>\n",
      "RangeIndex: 10329 entries, 0 to 10328\n",
      "Data columns (total 3 columns):\n",
      " #   Column   Non-Null Count  Dtype \n",
      "---  ------   --------------  ----- \n",
      " 0   movieId  10329 non-null  int64 \n",
      " 1   title    10329 non-null  object\n",
      " 2   genres   10329 non-null  object\n",
      "dtypes: int64(1), object(2)\n",
      "memory usage: 242.2+ KB\n"
     ]
    }
   ],
   "source": [
    "movies_df.info()"
   ]
  },
  {
   "cell_type": "code",
   "execution_count": 6,
   "id": "0a124ea9",
   "metadata": {},
   "outputs": [
    {
     "data": {
      "text/html": [
       "<div>\n",
       "<style scoped>\n",
       "    .dataframe tbody tr th:only-of-type {\n",
       "        vertical-align: middle;\n",
       "    }\n",
       "\n",
       "    .dataframe tbody tr th {\n",
       "        vertical-align: top;\n",
       "    }\n",
       "\n",
       "    .dataframe thead th {\n",
       "        text-align: right;\n",
       "    }\n",
       "</style>\n",
       "<table border=\"1\" class=\"dataframe\">\n",
       "  <thead>\n",
       "    <tr style=\"text-align: right;\">\n",
       "      <th></th>\n",
       "      <th>movieId</th>\n",
       "    </tr>\n",
       "  </thead>\n",
       "  <tbody>\n",
       "    <tr>\n",
       "      <th>count</th>\n",
       "      <td>10329.000000</td>\n",
       "    </tr>\n",
       "    <tr>\n",
       "      <th>mean</th>\n",
       "      <td>31924.282893</td>\n",
       "    </tr>\n",
       "    <tr>\n",
       "      <th>std</th>\n",
       "      <td>37734.741149</td>\n",
       "    </tr>\n",
       "    <tr>\n",
       "      <th>min</th>\n",
       "      <td>1.000000</td>\n",
       "    </tr>\n",
       "    <tr>\n",
       "      <th>25%</th>\n",
       "      <td>3240.000000</td>\n",
       "    </tr>\n",
       "    <tr>\n",
       "      <th>50%</th>\n",
       "      <td>7088.000000</td>\n",
       "    </tr>\n",
       "    <tr>\n",
       "      <th>75%</th>\n",
       "      <td>59900.000000</td>\n",
       "    </tr>\n",
       "    <tr>\n",
       "      <th>max</th>\n",
       "      <td>149532.000000</td>\n",
       "    </tr>\n",
       "  </tbody>\n",
       "</table>\n",
       "</div>"
      ],
      "text/plain": [
       "             movieId\n",
       "count   10329.000000\n",
       "mean    31924.282893\n",
       "std     37734.741149\n",
       "min         1.000000\n",
       "25%      3240.000000\n",
       "50%      7088.000000\n",
       "75%     59900.000000\n",
       "max    149532.000000"
      ]
     },
     "execution_count": 6,
     "metadata": {},
     "output_type": "execute_result"
    }
   ],
   "source": [
    "movies_df.describe()"
   ]
  },
  {
   "cell_type": "code",
   "execution_count": 7,
   "id": "061ae21f",
   "metadata": {},
   "outputs": [
    {
     "data": {
      "text/plain": [
       "movieId    0\n",
       "title      0\n",
       "genres     0\n",
       "dtype: int64"
      ]
     },
     "execution_count": 7,
     "metadata": {},
     "output_type": "execute_result"
    }
   ],
   "source": [
    "movies_df.isnull().sum()"
   ]
  },
  {
   "cell_type": "code",
   "execution_count": 8,
   "id": "6fc54f4c",
   "metadata": {},
   "outputs": [
    {
     "name": "stdout",
     "output_type": "stream",
     "text": [
      "['Toy Story (1995)' 'Jumanji (1995)' 'Grumpier Old Men (1995)' ...\n",
      " 'A Very Murray Christmas (2015)' 'The Big Short (2015)'\n",
      " 'Marco Polo: One Hundred Eyes (2015)']\n"
     ]
    }
   ],
   "source": [
    "print(movies_df['title'].unique())"
   ]
  },
  {
   "cell_type": "code",
   "execution_count": 9,
   "id": "b480b214",
   "metadata": {},
   "outputs": [
    {
     "data": {
      "text/html": [
       "<div>\n",
       "<style scoped>\n",
       "    .dataframe tbody tr th:only-of-type {\n",
       "        vertical-align: middle;\n",
       "    }\n",
       "\n",
       "    .dataframe tbody tr th {\n",
       "        vertical-align: top;\n",
       "    }\n",
       "\n",
       "    .dataframe thead th {\n",
       "        text-align: right;\n",
       "    }\n",
       "</style>\n",
       "<table border=\"1\" class=\"dataframe\">\n",
       "  <thead>\n",
       "    <tr style=\"text-align: right;\">\n",
       "      <th></th>\n",
       "      <th>userId</th>\n",
       "      <th>movieId</th>\n",
       "      <th>rating</th>\n",
       "      <th>timestamp</th>\n",
       "    </tr>\n",
       "  </thead>\n",
       "  <tbody>\n",
       "    <tr>\n",
       "      <th>0</th>\n",
       "      <td>1</td>\n",
       "      <td>16</td>\n",
       "      <td>4.0</td>\n",
       "      <td>1217897793</td>\n",
       "    </tr>\n",
       "    <tr>\n",
       "      <th>1</th>\n",
       "      <td>1</td>\n",
       "      <td>24</td>\n",
       "      <td>1.5</td>\n",
       "      <td>1217895807</td>\n",
       "    </tr>\n",
       "    <tr>\n",
       "      <th>2</th>\n",
       "      <td>1</td>\n",
       "      <td>32</td>\n",
       "      <td>4.0</td>\n",
       "      <td>1217896246</td>\n",
       "    </tr>\n",
       "    <tr>\n",
       "      <th>3</th>\n",
       "      <td>1</td>\n",
       "      <td>47</td>\n",
       "      <td>4.0</td>\n",
       "      <td>1217896556</td>\n",
       "    </tr>\n",
       "    <tr>\n",
       "      <th>4</th>\n",
       "      <td>1</td>\n",
       "      <td>50</td>\n",
       "      <td>4.0</td>\n",
       "      <td>1217896523</td>\n",
       "    </tr>\n",
       "  </tbody>\n",
       "</table>\n",
       "</div>"
      ],
      "text/plain": [
       "   userId  movieId  rating   timestamp\n",
       "0       1       16     4.0  1217897793\n",
       "1       1       24     1.5  1217895807\n",
       "2       1       32     4.0  1217896246\n",
       "3       1       47     4.0  1217896556\n",
       "4       1       50     4.0  1217896523"
      ]
     },
     "execution_count": 9,
     "metadata": {},
     "output_type": "execute_result"
    }
   ],
   "source": [
    "ratings_df.head()"
   ]
  },
  {
   "cell_type": "code",
   "execution_count": 10,
   "id": "870ad814",
   "metadata": {},
   "outputs": [
    {
     "data": {
      "text/plain": [
       "(105339, 4)"
      ]
     },
     "execution_count": 10,
     "metadata": {},
     "output_type": "execute_result"
    }
   ],
   "source": [
    "ratings_df.shape"
   ]
  },
  {
   "cell_type": "code",
   "execution_count": 11,
   "id": "64b34f28",
   "metadata": {},
   "outputs": [
    {
     "name": "stdout",
     "output_type": "stream",
     "text": [
      "<class 'pandas.core.frame.DataFrame'>\n",
      "RangeIndex: 105339 entries, 0 to 105338\n",
      "Data columns (total 4 columns):\n",
      " #   Column     Non-Null Count   Dtype  \n",
      "---  ------     --------------   -----  \n",
      " 0   userId     105339 non-null  int64  \n",
      " 1   movieId    105339 non-null  int64  \n",
      " 2   rating     105339 non-null  float64\n",
      " 3   timestamp  105339 non-null  int64  \n",
      "dtypes: float64(1), int64(3)\n",
      "memory usage: 3.2 MB\n"
     ]
    }
   ],
   "source": [
    "ratings_df.info()"
   ]
  },
  {
   "cell_type": "code",
   "execution_count": 12,
   "id": "01cfdf82",
   "metadata": {},
   "outputs": [
    {
     "data": {
      "text/plain": [
       "userId       0\n",
       "movieId      0\n",
       "rating       0\n",
       "timestamp    0\n",
       "dtype: int64"
      ]
     },
     "execution_count": 12,
     "metadata": {},
     "output_type": "execute_result"
    }
   ],
   "source": [
    "ratings_df.isnull().sum()"
   ]
  },
  {
   "cell_type": "code",
   "execution_count": 13,
   "id": "84fb0a7c",
   "metadata": {},
   "outputs": [
    {
     "data": {
      "text/html": [
       "<div>\n",
       "<style scoped>\n",
       "    .dataframe tbody tr th:only-of-type {\n",
       "        vertical-align: middle;\n",
       "    }\n",
       "\n",
       "    .dataframe tbody tr th {\n",
       "        vertical-align: top;\n",
       "    }\n",
       "\n",
       "    .dataframe thead th {\n",
       "        text-align: right;\n",
       "    }\n",
       "</style>\n",
       "<table border=\"1\" class=\"dataframe\">\n",
       "  <thead>\n",
       "    <tr style=\"text-align: right;\">\n",
       "      <th></th>\n",
       "      <th>userId</th>\n",
       "      <th>movieId</th>\n",
       "      <th>rating</th>\n",
       "      <th>timestamp</th>\n",
       "    </tr>\n",
       "  </thead>\n",
       "  <tbody>\n",
       "    <tr>\n",
       "      <th>count</th>\n",
       "      <td>105339.000000</td>\n",
       "      <td>105339.000000</td>\n",
       "      <td>105339.000000</td>\n",
       "      <td>1.053390e+05</td>\n",
       "    </tr>\n",
       "    <tr>\n",
       "      <th>mean</th>\n",
       "      <td>364.924539</td>\n",
       "      <td>13381.312477</td>\n",
       "      <td>3.516850</td>\n",
       "      <td>1.130424e+09</td>\n",
       "    </tr>\n",
       "    <tr>\n",
       "      <th>std</th>\n",
       "      <td>197.486905</td>\n",
       "      <td>26170.456869</td>\n",
       "      <td>1.044872</td>\n",
       "      <td>1.802660e+08</td>\n",
       "    </tr>\n",
       "    <tr>\n",
       "      <th>min</th>\n",
       "      <td>1.000000</td>\n",
       "      <td>1.000000</td>\n",
       "      <td>0.500000</td>\n",
       "      <td>8.285650e+08</td>\n",
       "    </tr>\n",
       "    <tr>\n",
       "      <th>25%</th>\n",
       "      <td>192.000000</td>\n",
       "      <td>1073.000000</td>\n",
       "      <td>3.000000</td>\n",
       "      <td>9.711008e+08</td>\n",
       "    </tr>\n",
       "    <tr>\n",
       "      <th>50%</th>\n",
       "      <td>383.000000</td>\n",
       "      <td>2497.000000</td>\n",
       "      <td>3.500000</td>\n",
       "      <td>1.115154e+09</td>\n",
       "    </tr>\n",
       "    <tr>\n",
       "      <th>75%</th>\n",
       "      <td>557.000000</td>\n",
       "      <td>5991.000000</td>\n",
       "      <td>4.000000</td>\n",
       "      <td>1.275496e+09</td>\n",
       "    </tr>\n",
       "    <tr>\n",
       "      <th>max</th>\n",
       "      <td>668.000000</td>\n",
       "      <td>149532.000000</td>\n",
       "      <td>5.000000</td>\n",
       "      <td>1.452405e+09</td>\n",
       "    </tr>\n",
       "  </tbody>\n",
       "</table>\n",
       "</div>"
      ],
      "text/plain": [
       "              userId        movieId         rating     timestamp\n",
       "count  105339.000000  105339.000000  105339.000000  1.053390e+05\n",
       "mean      364.924539   13381.312477       3.516850  1.130424e+09\n",
       "std       197.486905   26170.456869       1.044872  1.802660e+08\n",
       "min         1.000000       1.000000       0.500000  8.285650e+08\n",
       "25%       192.000000    1073.000000       3.000000  9.711008e+08\n",
       "50%       383.000000    2497.000000       3.500000  1.115154e+09\n",
       "75%       557.000000    5991.000000       4.000000  1.275496e+09\n",
       "max       668.000000  149532.000000       5.000000  1.452405e+09"
      ]
     },
     "execution_count": 13,
     "metadata": {},
     "output_type": "execute_result"
    }
   ],
   "source": [
    "ratings_df.describe()"
   ]
  },
  {
   "cell_type": "markdown",
   "id": "c92e37f3",
   "metadata": {},
   "source": [
    "###### ii) Finding unique users and movies"
   ]
  },
  {
   "cell_type": "code",
   "execution_count": 14,
   "id": "a789aecc",
   "metadata": {},
   "outputs": [],
   "source": [
    "uniqueUsers = ratings_df['userId'].unique()\n",
    "uniqueMovies = movies_df['title'].unique()"
   ]
  },
  {
   "cell_type": "code",
   "execution_count": 15,
   "id": "f3b40db8",
   "metadata": {},
   "outputs": [
    {
     "name": "stdout",
     "output_type": "stream",
     "text": [
      "Number of unique users: 668\n",
      "Number of unique movies: 10327\n"
     ]
    }
   ],
   "source": [
    "# Displaying the number of unique users and movies\n",
    "print(\"Number of unique users:\", len(uniqueUsers))\n",
    "print(\"Number of unique movies:\", len(uniqueMovies))"
   ]
  },
  {
   "cell_type": "markdown",
   "id": "8f12bb07",
   "metadata": {},
   "source": [
    "###### iii) Average rating and Total movies at genre level."
   ]
  },
  {
   "cell_type": "code",
   "execution_count": 16,
   "id": "ff673e2d",
   "metadata": {},
   "outputs": [
    {
     "data": {
      "text/html": [
       "<div>\n",
       "<style scoped>\n",
       "    .dataframe tbody tr th:only-of-type {\n",
       "        vertical-align: middle;\n",
       "    }\n",
       "\n",
       "    .dataframe tbody tr th {\n",
       "        vertical-align: top;\n",
       "    }\n",
       "\n",
       "    .dataframe thead th {\n",
       "        text-align: right;\n",
       "    }\n",
       "</style>\n",
       "<table border=\"1\" class=\"dataframe\">\n",
       "  <thead>\n",
       "    <tr style=\"text-align: right;\">\n",
       "      <th></th>\n",
       "      <th>userId</th>\n",
       "      <th>movieId</th>\n",
       "      <th>rating</th>\n",
       "      <th>timestamp</th>\n",
       "    </tr>\n",
       "  </thead>\n",
       "  <tbody>\n",
       "    <tr>\n",
       "      <th>count</th>\n",
       "      <td>105339.000000</td>\n",
       "      <td>105339.000000</td>\n",
       "      <td>105339.000000</td>\n",
       "      <td>1.053390e+05</td>\n",
       "    </tr>\n",
       "    <tr>\n",
       "      <th>mean</th>\n",
       "      <td>364.924539</td>\n",
       "      <td>13381.312477</td>\n",
       "      <td>3.516850</td>\n",
       "      <td>1.130424e+09</td>\n",
       "    </tr>\n",
       "    <tr>\n",
       "      <th>std</th>\n",
       "      <td>197.486905</td>\n",
       "      <td>26170.456869</td>\n",
       "      <td>1.044872</td>\n",
       "      <td>1.802660e+08</td>\n",
       "    </tr>\n",
       "    <tr>\n",
       "      <th>min</th>\n",
       "      <td>1.000000</td>\n",
       "      <td>1.000000</td>\n",
       "      <td>0.500000</td>\n",
       "      <td>8.285650e+08</td>\n",
       "    </tr>\n",
       "    <tr>\n",
       "      <th>25%</th>\n",
       "      <td>192.000000</td>\n",
       "      <td>1073.000000</td>\n",
       "      <td>3.000000</td>\n",
       "      <td>9.711008e+08</td>\n",
       "    </tr>\n",
       "    <tr>\n",
       "      <th>50%</th>\n",
       "      <td>383.000000</td>\n",
       "      <td>2497.000000</td>\n",
       "      <td>3.500000</td>\n",
       "      <td>1.115154e+09</td>\n",
       "    </tr>\n",
       "    <tr>\n",
       "      <th>75%</th>\n",
       "      <td>557.000000</td>\n",
       "      <td>5991.000000</td>\n",
       "      <td>4.000000</td>\n",
       "      <td>1.275496e+09</td>\n",
       "    </tr>\n",
       "    <tr>\n",
       "      <th>max</th>\n",
       "      <td>668.000000</td>\n",
       "      <td>149532.000000</td>\n",
       "      <td>5.000000</td>\n",
       "      <td>1.452405e+09</td>\n",
       "    </tr>\n",
       "  </tbody>\n",
       "</table>\n",
       "</div>"
      ],
      "text/plain": [
       "              userId        movieId         rating     timestamp\n",
       "count  105339.000000  105339.000000  105339.000000  1.053390e+05\n",
       "mean      364.924539   13381.312477       3.516850  1.130424e+09\n",
       "std       197.486905   26170.456869       1.044872  1.802660e+08\n",
       "min         1.000000       1.000000       0.500000  8.285650e+08\n",
       "25%       192.000000    1073.000000       3.000000  9.711008e+08\n",
       "50%       383.000000    2497.000000       3.500000  1.115154e+09\n",
       "75%       557.000000    5991.000000       4.000000  1.275496e+09\n",
       "max       668.000000  149532.000000       5.000000  1.452405e+09"
      ]
     },
     "execution_count": 16,
     "metadata": {},
     "output_type": "execute_result"
    }
   ],
   "source": [
    "ratings_df.describe()"
   ]
  },
  {
   "cell_type": "markdown",
   "id": "60abe080",
   "metadata": {},
   "source": [
    "###### From the above table we can conclue that\n",
    "\n",
    "###### The average rating is 3.5 and minimum and maximum rating is 0.5 and 5 respectively.\n",
    "###### There are 668 user who has given their ratings for 149532 movies.\n",
    "\n",
    "\n",
    "\n",
    "."
   ]
  },
  {
   "cell_type": "code",
   "execution_count": 17,
   "id": "3c94a5ee",
   "metadata": {},
   "outputs": [
    {
     "data": {
      "text/html": [
       "<div>\n",
       "<style scoped>\n",
       "    .dataframe tbody tr th:only-of-type {\n",
       "        vertical-align: middle;\n",
       "    }\n",
       "\n",
       "    .dataframe tbody tr th {\n",
       "        vertical-align: top;\n",
       "    }\n",
       "\n",
       "    .dataframe thead th {\n",
       "        text-align: right;\n",
       "    }\n",
       "</style>\n",
       "<table border=\"1\" class=\"dataframe\">\n",
       "  <thead>\n",
       "    <tr style=\"text-align: right;\">\n",
       "      <th></th>\n",
       "      <th>movieId</th>\n",
       "      <th>title</th>\n",
       "      <th>genres</th>\n",
       "      <th>userId</th>\n",
       "      <th>rating</th>\n",
       "      <th>timestamp</th>\n",
       "    </tr>\n",
       "  </thead>\n",
       "  <tbody>\n",
       "    <tr>\n",
       "      <th>0</th>\n",
       "      <td>1</td>\n",
       "      <td>Toy Story (1995)</td>\n",
       "      <td>Adventure|Animation|Children|Comedy|Fantasy</td>\n",
       "      <td>2.0</td>\n",
       "      <td>5.0</td>\n",
       "      <td>8.590469e+08</td>\n",
       "    </tr>\n",
       "    <tr>\n",
       "      <th>1</th>\n",
       "      <td>1</td>\n",
       "      <td>Toy Story (1995)</td>\n",
       "      <td>Adventure|Animation|Children|Comedy|Fantasy</td>\n",
       "      <td>5.0</td>\n",
       "      <td>4.0</td>\n",
       "      <td>1.303501e+09</td>\n",
       "    </tr>\n",
       "    <tr>\n",
       "      <th>2</th>\n",
       "      <td>1</td>\n",
       "      <td>Toy Story (1995)</td>\n",
       "      <td>Adventure|Animation|Children|Comedy|Fantasy</td>\n",
       "      <td>8.0</td>\n",
       "      <td>5.0</td>\n",
       "      <td>8.586109e+08</td>\n",
       "    </tr>\n",
       "    <tr>\n",
       "      <th>3</th>\n",
       "      <td>1</td>\n",
       "      <td>Toy Story (1995)</td>\n",
       "      <td>Adventure|Animation|Children|Comedy|Fantasy</td>\n",
       "      <td>11.0</td>\n",
       "      <td>4.0</td>\n",
       "      <td>8.508158e+08</td>\n",
       "    </tr>\n",
       "    <tr>\n",
       "      <th>4</th>\n",
       "      <td>1</td>\n",
       "      <td>Toy Story (1995)</td>\n",
       "      <td>Adventure|Animation|Children|Comedy|Fantasy</td>\n",
       "      <td>14.0</td>\n",
       "      <td>4.0</td>\n",
       "      <td>8.517663e+08</td>\n",
       "    </tr>\n",
       "  </tbody>\n",
       "</table>\n",
       "</div>"
      ],
      "text/plain": [
       "   movieId             title                                       genres  \\\n",
       "0        1  Toy Story (1995)  Adventure|Animation|Children|Comedy|Fantasy   \n",
       "1        1  Toy Story (1995)  Adventure|Animation|Children|Comedy|Fantasy   \n",
       "2        1  Toy Story (1995)  Adventure|Animation|Children|Comedy|Fantasy   \n",
       "3        1  Toy Story (1995)  Adventure|Animation|Children|Comedy|Fantasy   \n",
       "4        1  Toy Story (1995)  Adventure|Animation|Children|Comedy|Fantasy   \n",
       "\n",
       "   userId  rating     timestamp  \n",
       "0     2.0     5.0  8.590469e+08  \n",
       "1     5.0     4.0  1.303501e+09  \n",
       "2     8.0     5.0  8.586109e+08  \n",
       "3    11.0     4.0  8.508158e+08  \n",
       "4    14.0     4.0  8.517663e+08  "
      ]
     },
     "execution_count": 17,
     "metadata": {},
     "output_type": "execute_result"
    }
   ],
   "source": [
    "df = pd.merge(movies_df, ratings_df, how='left', on='movieId')\n",
    "df.head()"
   ]
  },
  {
   "cell_type": "code",
   "execution_count": 18,
   "id": "6bb467de",
   "metadata": {},
   "outputs": [
    {
     "data": {
      "text/plain": [
       "(105343, 6)"
      ]
     },
     "execution_count": 18,
     "metadata": {},
     "output_type": "execute_result"
    }
   ],
   "source": [
    "df.shape"
   ]
  },
  {
   "cell_type": "code",
   "execution_count": 19,
   "id": "5a58b651",
   "metadata": {},
   "outputs": [
    {
     "data": {
      "text/html": [
       "<div>\n",
       "<style scoped>\n",
       "    .dataframe tbody tr th:only-of-type {\n",
       "        vertical-align: middle;\n",
       "    }\n",
       "\n",
       "    .dataframe tbody tr th {\n",
       "        vertical-align: top;\n",
       "    }\n",
       "\n",
       "    .dataframe thead th {\n",
       "        text-align: right;\n",
       "    }\n",
       "</style>\n",
       "<table border=\"1\" class=\"dataframe\">\n",
       "  <thead>\n",
       "    <tr style=\"text-align: right;\">\n",
       "      <th></th>\n",
       "      <th>movieId</th>\n",
       "      <th>userId</th>\n",
       "      <th>rating</th>\n",
       "      <th>timestamp</th>\n",
       "    </tr>\n",
       "  </thead>\n",
       "  <tbody>\n",
       "    <tr>\n",
       "      <th>count</th>\n",
       "      <td>105343.000000</td>\n",
       "      <td>105339.000000</td>\n",
       "      <td>105339.000000</td>\n",
       "      <td>1.053390e+05</td>\n",
       "    </tr>\n",
       "    <tr>\n",
       "      <th>mean</th>\n",
       "      <td>13382.696373</td>\n",
       "      <td>364.924539</td>\n",
       "      <td>3.516850</td>\n",
       "      <td>1.130424e+09</td>\n",
       "    </tr>\n",
       "    <tr>\n",
       "      <th>std</th>\n",
       "      <td>26172.698128</td>\n",
       "      <td>197.486905</td>\n",
       "      <td>1.044872</td>\n",
       "      <td>1.802660e+08</td>\n",
       "    </tr>\n",
       "    <tr>\n",
       "      <th>min</th>\n",
       "      <td>1.000000</td>\n",
       "      <td>1.000000</td>\n",
       "      <td>0.500000</td>\n",
       "      <td>8.285650e+08</td>\n",
       "    </tr>\n",
       "    <tr>\n",
       "      <th>25%</th>\n",
       "      <td>1073.000000</td>\n",
       "      <td>192.000000</td>\n",
       "      <td>3.000000</td>\n",
       "      <td>9.711008e+08</td>\n",
       "    </tr>\n",
       "    <tr>\n",
       "      <th>50%</th>\n",
       "      <td>2497.000000</td>\n",
       "      <td>383.000000</td>\n",
       "      <td>3.500000</td>\n",
       "      <td>1.115154e+09</td>\n",
       "    </tr>\n",
       "    <tr>\n",
       "      <th>75%</th>\n",
       "      <td>5991.000000</td>\n",
       "      <td>557.000000</td>\n",
       "      <td>4.000000</td>\n",
       "      <td>1.275496e+09</td>\n",
       "    </tr>\n",
       "    <tr>\n",
       "      <th>max</th>\n",
       "      <td>149532.000000</td>\n",
       "      <td>668.000000</td>\n",
       "      <td>5.000000</td>\n",
       "      <td>1.452405e+09</td>\n",
       "    </tr>\n",
       "  </tbody>\n",
       "</table>\n",
       "</div>"
      ],
      "text/plain": [
       "             movieId         userId         rating     timestamp\n",
       "count  105343.000000  105339.000000  105339.000000  1.053390e+05\n",
       "mean    13382.696373     364.924539       3.516850  1.130424e+09\n",
       "std     26172.698128     197.486905       1.044872  1.802660e+08\n",
       "min         1.000000       1.000000       0.500000  8.285650e+08\n",
       "25%      1073.000000     192.000000       3.000000  9.711008e+08\n",
       "50%      2497.000000     383.000000       3.500000  1.115154e+09\n",
       "75%      5991.000000     557.000000       4.000000  1.275496e+09\n",
       "max    149532.000000     668.000000       5.000000  1.452405e+09"
      ]
     },
     "execution_count": 19,
     "metadata": {},
     "output_type": "execute_result"
    }
   ],
   "source": [
    "df.describe()"
   ]
  },
  {
   "cell_type": "markdown",
   "id": "cd41dd22",
   "metadata": {},
   "source": [
    "###### iv) Unique genres considered.."
   ]
  },
  {
   "cell_type": "code",
   "execution_count": 20,
   "id": "2036ca95",
   "metadata": {},
   "outputs": [],
   "source": [
    "genres=[]\n",
    "for genre in movies_df.genres:\n",
    "    \n",
    "    x=genre.split('|')\n",
    "    for i in x:\n",
    "         if i not in genres:\n",
    "            genres.append(str(i))\n",
    "genres=str(genres)    "
   ]
  },
  {
   "cell_type": "code",
   "execution_count": 21,
   "id": "4d443dfd",
   "metadata": {},
   "outputs": [
    {
     "data": {
      "text/plain": [
       "\"['Adventure', 'Animation', 'Children', 'Comedy', 'Fantasy', 'Romance', 'Drama', 'Action', 'Crime', 'Thriller', 'Horror', 'Mystery', 'Sci-Fi', 'IMAX', 'War', 'Musical', 'Documentary', 'Western', 'Film-Noir', '(no genres listed)']\""
      ]
     },
     "execution_count": 21,
     "metadata": {},
     "output_type": "execute_result"
    }
   ],
   "source": [
    "genres"
   ]
  },
  {
   "cell_type": "markdown",
   "id": "3c5988df",
   "metadata": {},
   "source": [
    "Design the 3 different types of recommendation modules as mentioned in the objectives."
   ]
  },
  {
   "attachments": {
    "p1.png": {
     "image/png": "[encoded data removed]"
    }
   },
   "cell_type": "markdown",
   "id": "220db6a6",
   "metadata": {},
   "source": [
    "![p1.png](attachment:p1.png)"
   ]
  },
  {
   "cell_type": "code",
   "execution_count": 22,
   "id": "708af314",
   "metadata": {},
   "outputs": [
    {
     "name": "stdout",
     "output_type": "stream",
     "text": [
      "Recommendations based on popularity within genre 'Comedy':\n"
     ]
    },
    {
     "data": {
      "text/html": [
       "<div>\n",
       "<style scoped>\n",
       "    .dataframe tbody tr th:only-of-type {\n",
       "        vertical-align: middle;\n",
       "    }\n",
       "\n",
       "    .dataframe tbody tr th {\n",
       "        vertical-align: top;\n",
       "    }\n",
       "\n",
       "    .dataframe thead th {\n",
       "        text-align: right;\n",
       "    }\n",
       "</style>\n",
       "<table border=\"1\" class=\"dataframe\">\n",
       "  <thead>\n",
       "    <tr style=\"text-align: right;\">\n",
       "      <th></th>\n",
       "      <th>title</th>\n",
       "      <th>rating</th>\n",
       "      <th>movieId</th>\n",
       "    </tr>\n",
       "  </thead>\n",
       "  <tbody>\n",
       "    <tr>\n",
       "      <th>922</th>\n",
       "      <td>Monty Python and the Holy Grail (1975)</td>\n",
       "      <td>4.301948</td>\n",
       "      <td>1136</td>\n",
       "    </tr>\n",
       "    <tr>\n",
       "      <th>537</th>\n",
       "      <td>Fargo (1996)</td>\n",
       "      <td>4.271144</td>\n",
       "      <td>608</td>\n",
       "    </tr>\n",
       "    <tr>\n",
       "      <th>959</th>\n",
       "      <td>Princess Bride, The (1987)</td>\n",
       "      <td>4.163743</td>\n",
       "      <td>1197</td>\n",
       "    </tr>\n",
       "    <tr>\n",
       "      <th>260</th>\n",
       "      <td>Pulp Fiction (1994)</td>\n",
       "      <td>4.160000</td>\n",
       "      <td>296</td>\n",
       "    </tr>\n",
       "    <tr>\n",
       "      <th>316</th>\n",
       "      <td>Forrest Gump (1994)</td>\n",
       "      <td>4.138264</td>\n",
       "      <td>356</td>\n",
       "    </tr>\n",
       "  </tbody>\n",
       "</table>\n",
       "</div>"
      ],
      "text/plain": [
       "                                      title    rating  movieId\n",
       "922  Monty Python and the Holy Grail (1975)  4.301948     1136\n",
       "537                            Fargo (1996)  4.271144      608\n",
       "959              Princess Bride, The (1987)  4.163743     1197\n",
       "260                     Pulp Fiction (1994)  4.160000      296\n",
       "316                     Forrest Gump (1994)  4.138264      356"
      ]
     },
     "execution_count": 22,
     "metadata": {},
     "output_type": "execute_result"
    }
   ],
   "source": [
    "def popularity_based_recommender(genre, min_reviews_threshold, N):\n",
    "    # Filter movies by genre\n",
    "    genre_movies = movies_df[movies_df['genres'].str.contains(genre)]\n",
    "    \n",
    "    # Filter movies with minimum reviews threshold\n",
    "    popular_movies = genre_movies[genre_movies['movieId'].isin(ratings_df['movieId'].value_counts()[ratings_df['movieId'].value_counts() >= min_reviews_threshold].index)]\n",
    "    \n",
    "    # Calculate average rating for each movie\n",
    "    avg_rating_per_movie = ratings_df.groupby('movieId')['rating'].mean()\n",
    "    \n",
    "    # Merge average ratings with popular movies\n",
    "    popular_movies = popular_movies.join(avg_rating_per_movie, on='movieId')\n",
    "    \n",
    "    # Sort by average rating in descending order\n",
    "    popular_movies = popular_movies.sort_values(by='rating', ascending=False)\n",
    "    \n",
    "    # Select top N movies\n",
    "    top_N_movies = popular_movies.head(N)\n",
    "    \n",
    "    return top_N_movies[['title', 'rating', 'movieId']]\n",
    "\n",
    "# Example usage\n",
    "genre = 'Comedy'\n",
    "min_reviews_threshold = 100\n",
    "N = 5\n",
    "recommendations = popularity_based_recommender(genre, min_reviews_threshold, N)\n",
    "print(\"Recommendations based on popularity within genre '{}':\".format(genre))\n",
    "\n",
    "recommendations"
   ]
  },
  {
   "attachments": {
    "p2.png": {
     "image/png": "[encoded data removed]"
    }
   },
   "cell_type": "markdown",
   "id": "3d05b8f8",
   "metadata": {},
   "source": [
    "![p2.png](attachment:p2.png)"
   ]
  },
  {
   "cell_type": "code",
   "execution_count": 23,
   "id": "dc6b3c17",
   "metadata": {},
   "outputs": [
    {
     "name": "stdout",
     "output_type": "stream",
     "text": [
      "Movie 'Father of the Bride Part II (1995)' exists in the dataset.\n",
      "\n",
      "\n",
      "Recommendations based on similar movie genres to 'Father of the Bride Part II (1995)':\n"
     ]
    },
    {
     "data": {
      "text/plain": [
       "17                        Four Rooms (1995)\n",
       "18    Ace Ventura: When Nature Calls (1995)\n",
       "60                          Bio-Dome (1996)\n",
       "63                            Friday (1995)\n",
       "81                       Black Sheep (1996)\n",
       "Name: title, dtype: object"
      ]
     },
     "execution_count": 23,
     "metadata": {},
     "output_type": "execute_result"
    }
   ],
   "source": [
    "from sklearn.feature_extraction.text import TfidfVectorizer\n",
    "from sklearn.metrics.pairwise import linear_kernel\n",
    "\n",
    "# Define a TF-IDF Vectorizer object\n",
    "tfidf = TfidfVectorizer(stop_words='english')\n",
    "\n",
    "# Replace NaN values with an empty string\n",
    "movies_df['genres'] = movies_df['genres'].fillna('')\n",
    "\n",
    "# Construct the TF-IDF matrix\n",
    "tfidf_matrix = tfidf.fit_transform(movies_df['genres'])\n",
    "\n",
    "# Compute the cosine similarity matrix\n",
    "cosine_sim = linear_kernel(tfidf_matrix, tfidf_matrix)\n",
    "\n",
    "# Function to recommend movies based on genre similarity\n",
    "def genre_based_recommender(title, N,cosine_sim=cosine_sim):\n",
    "    \n",
    "    if movie_title in movies_df['title'].values:\n",
    "        print(\"Movie '{}' exists in the dataset.\\n\\n\".format(movie_title))\n",
    "    else:\n",
    "        print(\"\\n\\nMovie '{}' does not exist in the dataset.\".format(movie_title))\n",
    "        return\n",
    "\n",
    "    \n",
    "    # Get the index of the movie that matches the title\n",
    "    idx = movies_df.loc[movies_df['title'] == title].index[0]\n",
    "    \n",
    "    # Get the pairwsie similarity scores of all movies with that movie\n",
    "    sim_scores = list(enumerate(cosine_sim[idx]))\n",
    "    \n",
    "    # Sort the movies based on the similarity scores\n",
    "    sim_scores = sorted(sim_scores, key=lambda x: x[1], reverse=True)\n",
    "    \n",
    "    # Get the scores of the N most similar movies\n",
    "    sim_scores = sim_scores[1:N+1]\n",
    "    \n",
    "    # Get the movie indices\n",
    "    movie_indices = [i[0] for i in sim_scores]\n",
    "    \n",
    "    # Return the top N most similar movies\n",
    "    return movies_df['title'].iloc[movie_indices]\n",
    "\n",
    "# Example usage\n",
    "movie_title = 'Father of the Bride Part II (1995)'\n",
    "N = 5\n",
    "recommendations = genre_based_recommender(movie_title, N, cosine_sim)\n",
    "print(\"Recommendations based on similar movie genres to '{}':\".format(movie_title))\n",
    "\n",
    "recommendations"
   ]
  },
  {
   "attachments": {
    "p3.png": {
     "image/png": "[encoded data removed]"
    }
   },
   "cell_type": "markdown",
   "id": "1ccb7a87",
   "metadata": {},
   "source": [
    "![p3.png](attachment:p3.png)"
   ]
  },
  {
   "cell_type": "code",
   "execution_count": 24,
   "id": "13e579dd",
   "metadata": {},
   "outputs": [
    {
     "name": "stdout",
     "output_type": "stream",
     "text": [
      "Recommendations based on similar users for User 1: \n"
     ]
    },
    {
     "data": {
      "text/plain": [
       "467                    Ruby in Paradise (1993)\n",
       "764                        Lost Horizon (1937)\n",
       "1138                      Marvin's Room (1996)\n",
       "5822    Alice Doesn't Live Here Anymore (1974)\n",
       "8700                  Symbol (Shinboru) (2009)\n",
       "Name: title, dtype: object"
      ]
     },
     "execution_count": 24,
     "metadata": {},
     "output_type": "execute_result"
    }
   ],
   "source": [
    "from sklearn.metrics.pairwise import cosine_similarity\n",
    "\n",
    "# Function to recommend movies based on similar users\n",
    "def collaborative_recommender(user_id, N, k):\n",
    "    # Filter ratings by the target user\n",
    "    target_user_ratings = ratings_df[ratings_df['userId'] == user_id]\n",
    "    \n",
    "    # Get the movie IDs rated by the target user\n",
    "    movie_ids_rated_by_user = target_user_ratings['movieId']\n",
    "    \n",
    "    # Find users who have rated the same movies as the target user\n",
    "    similar_users = ratings_df[ratings_df['movieId'].isin(movie_ids_rated_by_user)]\n",
    "    \n",
    "    # Calculate user similarity based on ratings\n",
    "    user_similarity_matrix = cosine_similarity(similar_users.pivot_table(index='userId', columns='movieId', values='rating').fillna(0))\n",
    "    \n",
    "    # Get the similarity scores of all users with the target user\n",
    "    target_user_idx = similar_users[similar_users['userId'] == user_id].index[0]\n",
    "    similarity_scores = list(enumerate(user_similarity_matrix[target_user_idx]))\n",
    "    \n",
    "    # Sort users based on similarity scores\n",
    "    similarity_scores = sorted(similarity_scores, key=lambda x: x[1], reverse=True)\n",
    "    \n",
    "    # Get the top k similar users\n",
    "    similar_users_indices = [x[0] for x in similarity_scores[1:k+1]]\n",
    "    \n",
    "    # Get the ratings of top k similar users\n",
    "    similar_users_ratings = ratings_df[ratings_df['userId'].isin(similar_users_indices)]\n",
    "    \n",
    "    # Exclude movies already rated by the target user\n",
    "    similar_users_ratings = similar_users_ratings[~similar_users_ratings['movieId'].isin(movie_ids_rated_by_user)]\n",
    "    \n",
    "    # Aggregate ratings of similar users\n",
    "    aggregated_ratings = similar_users_ratings.groupby('movieId')['rating'].mean().reset_index()\n",
    "    \n",
    "    # Sort movies based on aggregated ratings\n",
    "    top_N_movies = aggregated_ratings.sort_values(by='rating', ascending=False).head(N)\n",
    "    \n",
    "    # Get movie titles corresponding to movie IDs\n",
    "    top_N_movie_titles = movies_df[movies_df['movieId'].isin(top_N_movies['movieId'])]['title']\n",
    "    \n",
    "    return top_N_movie_titles\n",
    "\n",
    "# Example usage\n",
    "user_id = 1\n",
    "N = 5\n",
    "k = 100\n",
    "recommendations = collaborative_recommender(user_id, N, k)\n",
    "print(\"Recommendations based on similar users for User {}: \".format(user_id))\n",
    "\n",
    "recommendations"
   ]
  },
  {
   "cell_type": "code",
   "execution_count": null,
   "id": "56086825",
   "metadata": {},
   "outputs": [],
   "source": []
  },
  {
   "cell_type": "markdown",
   "id": "d618cf0f",
   "metadata": {},
   "source": [
    "#### Additional/Optional: Create a GUI interface using Python libraries (ipywidgetsetc.) to play around with there commendation  modules. "
   ]
  },
  {
   "cell_type": "code",
   "execution_count": 25,
   "id": "2331f4d9",
   "metadata": {},
   "outputs": [],
   "source": [
    "import ipywidgets as widgets\n",
    "from IPython.display import display"
   ]
  },
  {
   "cell_type": "markdown",
   "id": "053ad044",
   "metadata": {},
   "source": [
    "1. popularity_based_recommender"
   ]
  },
  {
   "cell_type": "code",
   "execution_count": 29,
   "id": "6ce72e0a",
   "metadata": {},
   "outputs": [
    {
     "data": {
      "application/vnd.jupyter.widget-view+json": {
       "model_id": "0610ab89e0514cc1bef844702b8e4e66",
       "version_major": 2,
       "version_minor": 0
      },
      "text/plain": [
       "VBox(children=(VBox(children=(Text(value='', description='Genre :'), IntText(value=0, description='Min Reviews…"
      ]
     },
     "execution_count": 29,
     "metadata": {},
     "output_type": "execute_result"
    },
    {
     "name": "stdout",
     "output_type": "stream",
     "text": [
      "                                       title    rating  movieId\n",
      "279         Shawshank Redemption, The (1994)  4.454545      318\n",
      "695                    Godfather, The (1972)  4.392857      858\n",
      "471                  Schindler's List (1993)  4.296371      527\n",
      "956   One Flew Over the Cuckoo's Nest (1975)  4.272727     1193\n",
      "537                             Fargo (1996)  4.271144      608\n",
      "982           Godfather: Part II, The (1974)  4.260714     1221\n",
      "974                        Goodfellas (1990)  4.259259     1213\n",
      "733                        Casablanca (1942)  4.236000      912\n",
      "8629                        Inception (2010)  4.189320    79132\n",
      "2365                       Fight Club (1999)  4.188406     2959\n"
     ]
    }
   ],
   "source": [
    "genre = widgets.Text(description='Genre :')\n",
    "min_reviews_threshold = widgets.IntText(description='Min Reviews Threshold :')\n",
    "N = widgets.IntText(description='N :')\n",
    "\n",
    "button = widgets.Button(description='Recommend')\n",
    "\n",
    "Inputs = widgets.VBox([genre,min_reviews_threshold,N])\n",
    "Interface = widgets.VBox([Inputs,button])\n",
    "\n",
    "# button.on_click(popularity_based_recommender)\n",
    "\n",
    "def on_button_clicked(b):\n",
    "    \n",
    "    print(popularity_based_recommender(genre.value,min_reviews_threshold.value,N.value))\n",
    "    \n",
    "    \n",
    "button.on_click(on_button_clicked)\n",
    "\n",
    "Interface"
   ]
  },
  {
   "cell_type": "code",
   "execution_count": null,
   "id": "1cc0f7c9",
   "metadata": {},
   "outputs": [],
   "source": []
  },
  {
   "cell_type": "markdown",
   "id": "e87a5b80",
   "metadata": {},
   "source": [
    "2. genre_based_recommender"
   ]
  },
  {
   "cell_type": "code",
   "execution_count": 30,
   "id": "411aba39",
   "metadata": {},
   "outputs": [
    {
     "data": {
      "application/vnd.jupyter.widget-view+json": {
       "model_id": "80f07f58b06341a99fcbd474952c9865",
       "version_major": 2,
       "version_minor": 0
      },
      "text/plain": [
       "VBox(children=(VBox(children=(Text(value='', description='Title :'), IntText(value=0, description='N :'))), Bu…"
      ]
     },
     "execution_count": 30,
     "metadata": {},
     "output_type": "execute_result"
    },
    {
     "name": "stdout",
     "output_type": "stream",
     "text": [
      "Movie 'Father of the Bride Part II (1995)' exists in the dataset.\n",
      "\n",
      "\n",
      "17                                     Four Rooms (1995)\n",
      "18                 Ace Ventura: When Nature Calls (1995)\n",
      "60                                       Bio-Dome (1996)\n",
      "63                                         Friday (1995)\n",
      "81                                    Black Sheep (1996)\n",
      "92                                      Mr. Wrong (1996)\n",
      "94                                  Happy Gilmore (1996)\n",
      "103    Happiness Is in the Field (Bonheur est dans le...\n",
      "111                        Flirting With Disaster (1996)\n",
      "116                                Down Periscope (1996)\n",
      "Name: title, dtype: object\n"
     ]
    }
   ],
   "source": [
    "title = widgets.Text(description='Title :')\n",
    "N = widgets.IntText(description='N :')\n",
    "\n",
    "\n",
    "button = widgets.Button(description='Recommend')\n",
    "\n",
    "Inputs = widgets.VBox([title,N])\n",
    "Interface = widgets.VBox([Inputs,button])\n",
    "\n",
    "\n",
    "def on_button_clicked(b):\n",
    "    \n",
    "    print(genre_based_recommender(title.value,N.value))\n",
    "    \n",
    "    \n",
    "button.on_click(on_button_clicked)\n",
    "\n",
    "Interface"
   ]
  },
  {
   "cell_type": "code",
   "execution_count": null,
   "id": "a01b8f65",
   "metadata": {},
   "outputs": [],
   "source": []
  },
  {
   "cell_type": "markdown",
   "id": "415f04c3",
   "metadata": {},
   "source": [
    "3. collaborative_recommender"
   ]
  },
  {
   "cell_type": "code",
   "execution_count": 32,
   "id": "508b946d",
   "metadata": {
    "scrolled": false
   },
   "outputs": [
    {
     "data": {
      "application/vnd.jupyter.widget-view+json": {
       "model_id": "065421a08f004b338de71bef8067ab0e",
       "version_major": 2,
       "version_minor": 0
      },
      "text/plain": [
       "VBox(children=(VBox(children=(IntText(value=0, description='User ID :'), IntText(value=0, description='N :'), …"
      ]
     },
     "execution_count": 32,
     "metadata": {},
     "output_type": "execute_result"
    },
    {
     "name": "stdout",
     "output_type": "stream",
     "text": [
      "943                                 Paths of Glory (1957)\n",
      "966                             Lawrence of Arabia (1962)\n",
      "2905    For a Few Dollars More (Per qualche dollaro in...\n",
      "3497                                  Big Business (1988)\n",
      "5908          Love Me If You Dare (Jeux d'enfants) (2003)\n",
      "5919       Pandora's Box (Büchse der Pandora, Die) (1929)\n",
      "6068                                        Batman (1966)\n",
      "8988                               Mothra (Mosura) (1961)\n",
      "9012                               Kung Fu Panda 2 (2011)\n",
      "9642                                      Oblivion (2013)\n",
      "Name: title, dtype: object\n"
     ]
    }
   ],
   "source": [
    "user_id = widgets.IntText(description='User ID :')\n",
    "N = widgets.IntText(description='N :')\n",
    "threshold = widgets.IntText(description='Threshold :')\n",
    "\n",
    "button = widgets.Button(description='Recommend')\n",
    "\n",
    "Inputs = widgets.VBox([user_id,N,threshold])\n",
    "Interface = widgets.VBox([Inputs,button])\n",
    "\n",
    "\n",
    "def on_button_clicked(b):\n",
    "    \n",
    "    print(collaborative_recommender(user_id.value,N.value,threshold.value))\n",
    "    \n",
    "    \n",
    "button.on_click(on_button_clicked)\n",
    "\n",
    "Interface"
   ]
  },
  {
   "cell_type": "code",
   "execution_count": null,
   "id": "001924e3",
   "metadata": {},
   "outputs": [],
   "source": []
  }
 ],
 "metadata": {
  "kernelspec": {
   "display_name": "Python 3 (ipykernel)",
   "language": "python",
   "name": "python3"
  },
  "language_info": {
   "codemirror_mode": {
    "name": "ipython",
    "version": 3
   },
   "file_extension": ".py",
   "mimetype": "text/x-python",
   "name": "python",
   "nbconvert_exporter": "python",
   "pygments_lexer": "ipython3",
   "version": "3.11.4"
  }
 },
 "nbformat": 4,
 "nbformat_minor": 5
}
